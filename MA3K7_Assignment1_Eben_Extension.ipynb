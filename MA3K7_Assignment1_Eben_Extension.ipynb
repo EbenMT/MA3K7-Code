{
 "cells": [
  {
   "cell_type": "code",
   "execution_count": 4,
   "id": "eb52f075-8cdb-45c1-94f2-38c8ca87aed3",
   "metadata": {},
   "outputs": [
    {
     "name": "stdout",
     "output_type": "stream",
     "text": [
      "5 → 1 → 6 → 7 → 13 → 0 → 13 → 13 → 6 → 19 → 5 → 4 → 9 → 13 → 2 → 15 → 17 → 12 → 9 → 1 → 10 → 11 → 1 → 12 → 13 → 5 → 18 → 3 → 1 → 4 → 5 → 9 → 14 → 3 → 17 → 0 → 17 → 17 → 14 → 11 → 5 → 16 → 1 → 17 → 18 → 15 → 13 → 8 → 1 → 9 → 10 → 19 → 9 → 8 → 17 → 5 → 2 → 7 → 9 → 16 → 5 → 1\n",
      "Length of the chain: 60\n"
     ]
    }
   ],
   "source": [
    "def create_number_bracelet20(num1, num2):\n",
    "\n",
    "    if not (0 <= num1 < 20 and 0 <= num2 < 20):\n",
    "        raise ValueError(\"Both numbers must be less than 20.\")\n",
    "\n",
    "    bracelet20 = [num1, num2]\n",
    "\n",
    "    while True:\n",
    "        next_num = (bracelet20[-1] + bracelet20[-2]) % 20\n",
    "        bracelet20.append(next_num)\n",
    "        # Stop when the sequence repeats\n",
    "        if bracelet20[-2:] == [num1, num2]:\n",
    "            break\n",
    "\n",
    "    return bracelet20\n",
    "\n",
    "num1, num2 = 5, 1\n",
    "bracelet20 = create_number_bracelet20(num1, num2)\n",
    "print(\" → \".join(map(str, bracelet20)))\n",
    "print(f\"Length of the chain: {len(bracelet20)-2}\")"
   ]
  },
  {
   "cell_type": "code",
   "execution_count": 2,
   "id": "f455b358-8d58-4274-82ef-1fee36679de2",
   "metadata": {},
   "outputs": [
    {
     "name": "stdout",
     "output_type": "stream",
     "text": [
      "Unique chain lengths: {1, 3, 4, 6, 12, 20, 60}\n",
      "Number of unique chain lengths: 7\n"
     ]
    }
   ],
   "source": [
    "def count_unique_chain_lengths():\n",
    "\n",
    "    unique_lengths = set()\n",
    "\n",
    "    for num1 in range(20):\n",
    "        for num2 in range(20):\n",
    "            bracelet20 = create_number_bracelet20(num1, num2)\n",
    "            unique_lengths.add(len(bracelet20) - 2)  # Subtract 2 to exclude the repeated pair\n",
    "\n",
    "    return unique_lengths\n",
    "\n",
    "unique_chain_lengths = count_unique_chain_lengths()\n",
    "print(f\"Unique chain lengths: {unique_chain_lengths}\")\n",
    "print(f\"Number of unique chain lengths: {len(unique_chain_lengths)}\")"
   ]
  },
  {
   "cell_type": "code",
   "execution_count": null,
   "id": "09887bfe-ffd2-433f-9730-a9e47422577c",
   "metadata": {},
   "outputs": [],
   "source": []
  }
 ],
 "metadata": {
  "kernelspec": {
   "display_name": "Python 3 (ipykernel)",
   "language": "python",
   "name": "python3"
  },
  "language_info": {
   "codemirror_mode": {
    "name": "ipython",
    "version": 3
   },
   "file_extension": ".py",
   "mimetype": "text/x-python",
   "name": "python",
   "nbconvert_exporter": "python",
   "pygments_lexer": "ipython3",
   "version": "3.9.12"
  }
 },
 "nbformat": 4,
 "nbformat_minor": 5
}
