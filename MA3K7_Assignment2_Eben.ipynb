{
 "cells": [
  {
   "cell_type": "code",
   "execution_count": null,
   "id": "df166fef-5cbc-4f82-98cd-802d0b32119b",
   "metadata": {},
   "outputs": [],
   "source": [
    "import numpy as np\n",
    "import random\n",
    "import time\n",
    "\n",
    "def print_grid(grid):\n",
    "    for row in grid:\n",
    "        print(\" \".join(str(cell) if cell is not None else \"-\" for cell in row))\n",
    "    print()\n",
    "\n",
    "def is_full(grid):\n",
    "    return all(all(cell is not None for cell in row) for row in grid)\n",
    "\n",
    "def get_player_move():\n",
    "    while True:\n",
    "        try:\n",
    "            row, col = map(int, input(\"Your turn! Enter row and column (0-indexed, separated by space): \").split())\n",
    "            if 0 <= row < len(grid) and 0 <= col < len(grid) and grid[row][col] is None:\n",
    "                return row, col\n",
    "            else:\n",
    "                print(\"Invalid move. Try again.\")\n",
    "        except ValueError:\n",
    "            print(\"Invalid input. Enter two numbers separated by space.\")\n",
    "\n",
    "def get_bot_move(grid):\n",
    "    available_moves = [(r, c) for r in range(len(grid)) for c in range(len(grid)) if grid[r][c] is None]\n",
    "    return random.choice(available_moves)\n",
    "\n",
    "n = int(input(\"Enter grid size (n x n): \"))\n",
    "grid = [[None] * n for _ in range(n)]\n",
    "\n",
    "player_turn = 0\n",
    "\n",
    "while not is_full(grid):\n",
    "    print_grid(grid)\n",
    "    if player_turn == 0:\n",
    "        row, col = get_player_move()\n",
    "    else:\n",
    "        print(\"Bot is making a move...\")\n",
    "        time.sleep(1)\n",
    "        row, col = get_bot_move(grid)\n",
    "    \n",
    "    grid[row][col] = player_turn\n",
    "    player_turn = 1 - player_turn  \n",
    "\n",
    "matrix = np.array(grid, dtype=int)\n",
    "det = np.linalg.det(matrix)\n",
    "\n",
    "print(\"Final grid:\")\n",
    "print_grid(matrix)\n",
    "print(f\"Determinant: {det}\")\n",
    "\n",
    "if np.isclose(det, 0):\n",
    "    print(\"You win! The determinant is zero.\")\n",
    "else:\n",
    "    print(\"Bot wins! The determinant is nonzero.\")"
   ]
  }
 ],
 "metadata": {
  "kernelspec": {
   "display_name": "Python 3 (ipykernel)",
   "language": "python",
   "name": "python3"
  },
  "language_info": {
   "codemirror_mode": {
    "name": "ipython",
    "version": 3
   },
   "file_extension": ".py",
   "mimetype": "text/x-python",
   "name": "python",
   "nbconvert_exporter": "python",
   "pygments_lexer": "ipython3",
   "version": "3.9.12"
  }
 },
 "nbformat": 4,
 "nbformat_minor": 5
}
