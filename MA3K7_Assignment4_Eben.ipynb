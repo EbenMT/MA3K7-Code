{
 "cells": [
  {
   "cell_type": "code",
   "execution_count": 75,
   "id": "afa682dc-e059-4304-a127-b65adb9a3323",
   "metadata": {},
   "outputs": [
    {
     "name": "stdout",
     "output_type": "stream",
     "text": [
      "Estimated probability of landing on step 25 from 1000000 trials: 0.6666\n"
     ]
    }
   ],
   "source": [
    "import random\n",
    "\n",
    "def simulate_trial():\n",
    "\n",
    "    position = 1\n",
    "    hit_25 = False\n",
    "    for _ in range(24):\n",
    "        toss = random.choice([1, 2])\n",
    "        position += toss\n",
    "        if position == 25:\n",
    "            hit_25 = True\n",
    "    return hit_25\n",
    "\n",
    "def main():\n",
    "    trials = 1000000\n",
    "    count_hit_25 = 0\n",
    "    \n",
    "    for _ in range(trials):\n",
    "        if simulate_trial():\n",
    "            count_hit_25 += 1\n",
    "            \n",
    "    probability = count_hit_25 / trials\n",
    "    print(f\"Estimated probability of landing on step 25 from {trials} trials: {probability:.4f}\")\n",
    "\n",
    "if __name__ == '__main__':\n",
    "    main()\n"
   ]
  },
  {
   "cell_type": "code",
   "execution_count": 76,
   "id": "6283f6d5-a12e-4fb4-9a8a-1edc9904f8d3",
   "metadata": {},
   "outputs": [
    {
     "name": "stdout",
     "output_type": "stream",
     "text": [
      "Estimated probability of landing on step 7 from 1000000 trials: 0.6721\n"
     ]
    }
   ],
   "source": [
    "import random\n",
    "\n",
    "def simulate_trial():\n",
    "    position = 1\n",
    "    hit_25 = False\n",
    "    for _ in range(6):\n",
    "        toss = random.choice([1, 2])\n",
    "        position += toss\n",
    "        if position == 7:\n",
    "            hit_25 = True\n",
    "    return hit_25\n",
    "\n",
    "def main():\n",
    "    trials = 1000000\n",
    "    count_hit_25 = 0\n",
    "    \n",
    "    for _ in range(trials):\n",
    "        if simulate_trial():\n",
    "            count_hit_25 += 1\n",
    "            \n",
    "    probability = count_hit_25 / trials\n",
    "    print(f\"Estimated probability of landing on step 7 from {trials} trials: {probability:.4f}\")\n",
    "\n",
    "if __name__ == '__main__':\n",
    "    main()"
   ]
  },
  {
   "cell_type": "code",
   "execution_count": 77,
   "id": "0a37ec79-a474-4141-ab13-256d7700fe5b",
   "metadata": {},
   "outputs": [
    {
     "name": "stdout",
     "output_type": "stream",
     "text": [
      "Estimated probability of landing on step 8 from 1000000 trials: 0.6647\n"
     ]
    }
   ],
   "source": [
    "import random\n",
    "\n",
    "def simulate_trial():\n",
    "    position = 1\n",
    "    hit_25 = False\n",
    "    for _ in range(7):\n",
    "        toss = random.choice([1, 2])\n",
    "        position += toss\n",
    "        if position == 8:\n",
    "            hit_25 = True\n",
    "    return hit_25\n",
    "\n",
    "def main():\n",
    "    trials = 1000000\n",
    "    count_hit_25 = 0\n",
    "    \n",
    "    for _ in range(trials):\n",
    "        if simulate_trial():\n",
    "            count_hit_25 += 1\n",
    "            \n",
    "    probability = count_hit_25 / trials\n",
    "    print(f\"Estimated probability of landing on step 8 from {trials} trials: {probability:.4f}\")\n",
    "\n",
    "if __name__ == '__main__':\n",
    "    main()"
   ]
  },
  {
   "cell_type": "code",
   "execution_count": 78,
   "id": "4146cb37-209c-4cdb-84dc-5535d26dc56a",
   "metadata": {},
   "outputs": [
    {
     "name": "stdout",
     "output_type": "stream",
     "text": [
      "Estimated probability of landing on step 9 from 1000000 trials: 0.6681\n"
     ]
    }
   ],
   "source": [
    "import random\n",
    "\n",
    "def simulate_trial():\n",
    "    position = 1\n",
    "    hit_25 = False\n",
    "    for _ in range(8):\n",
    "        toss = random.choice([1, 2])\n",
    "        position += toss\n",
    "        if position == 9:\n",
    "            hit_25 = True\n",
    "    return hit_25\n",
    "\n",
    "def main():\n",
    "    trials = 1000000\n",
    "    count_hit_25 = 0\n",
    "    \n",
    "    for _ in range(trials):\n",
    "        if simulate_trial():\n",
    "            count_hit_25 += 1\n",
    "            \n",
    "    probability = count_hit_25 / trials\n",
    "    print(f\"Estimated probability of landing on step 9 from {trials} trials: {probability:.4f}\")\n",
    "\n",
    "if __name__ == '__main__':\n",
    "    main()"
   ]
  },
  {
   "cell_type": "code",
   "execution_count": 79,
   "id": "7c49343e-3a6d-419e-abf7-1b1e1347d317",
   "metadata": {},
   "outputs": [
    {
     "name": "stdout",
     "output_type": "stream",
     "text": [
      "Coin toss outcomes (steps taken): [2, 1, 1, 1, 1, 1, 1, 1, 2, 2, 1, 1, 1, 2, 2, 1, 1, 2, 2, 1, 1, 1, 2, 2]\n",
      "Positions visited: [1, 3, 4, 5, 6, 7, 8, 9, 10, 12, 14, 15, 16, 17, 19, 21, 22, 23, 25, 27, 28, 29, 30, 32, 34]\n"
     ]
    },
    {
     "data": {
      "image/png": "[encoded data removed]",
      "text/plain": [
       "<Figure size 720x432 with 1 Axes>"
      ]
     },
     "metadata": {
      "needs_background": "light"
     },
     "output_type": "display_data"
    }
   ],
   "source": [
    "import random\n",
    "import matplotlib.pyplot as plt\n",
    "\n",
    "def simulate_trial():\n",
    "    positions = [1]       \n",
    "    toss_results = []\n",
    "    current_position = 1\n",
    "    \n",
    "    for _ in range(24):\n",
    "        toss = random.choice([1, 2])\n",
    "        toss_results.append(toss)\n",
    "        current_position += toss\n",
    "        positions.append(current_position)\n",
    "    \n",
    "    return positions, toss_results\n",
    "\n",
    "def visualize_trial(positions, toss_results):\n",
    "    print(\"Coin toss outcomes (steps taken):\", toss_results)\n",
    "    print(\"Positions visited:\", positions)\n",
    "    \n",
    "    toss_numbers = list(range(len(positions))) \n",
    "    \n",
    "    plt.figure(figsize=(10, 6))\n",
    "    plt.plot(toss_numbers, positions, marker='o', linestyle='-', color='blue')\n",
    "    plt.title(\"Walker's Position Over 24 Coin Tosses\")\n",
    "    plt.xlabel(\"Toss Number\")\n",
    "    plt.ylabel(\"Position\")\n",
    "    plt.xticks(toss_numbers)\n",
    "    plt.grid(True)\n",
    "    \n",
    "    if 25 in positions:\n",
    "        index = positions.index(25)\n",
    "        plt.scatter(index, 25, color='red', s=100, zorder=5, label='Step 25')\n",
    "        plt.legend()\n",
    "    \n",
    "    plt.show()\n",
    "\n",
    "def main():\n",
    "    positions, toss_results = simulate_trial()\n",
    "    visualize_trial(positions, toss_results)\n",
    "\n",
    "if __name__ == '__main__':\n",
    "    main()\n"
   ]
  },
  {
   "cell_type": "code",
   "execution_count": 96,
   "id": "f620ea15-7b24-41fa-8d42-2acd89d054ba",
   "metadata": {},
   "outputs": [
    {
     "name": "stdout",
     "output_type": "stream",
     "text": [
      "Estimated probability of landing on step 25 with a (1,3) coin : 0.5002\n"
     ]
    }
   ],
   "source": [
    "import random\n",
    "\n",
    "def simulate_trial():\n",
    "    position = 1\n",
    "    hit_25 = False\n",
    "    for _ in range(24):\n",
    "        toss = random.choice([1, 3])\n",
    "        position += toss\n",
    "        if position == 25:\n",
    "            hit_25 = True\n",
    "    return hit_25\n",
    "\n",
    "def main():\n",
    "    trials = 100000\n",
    "    count_hit_25 = 0\n",
    "    \n",
    "    for _ in range(trials):\n",
    "        if simulate_trial():\n",
    "            count_hit_25 += 1\n",
    "            \n",
    "    probability = count_hit_25 / trials\n",
    "    print(f\"Estimated probability of landing on step 25 with a (1,3) coin : {probability:.4f}\")\n",
    "\n",
    "if __name__ == '__main__':\n",
    "    main()"
   ]
  },
  {
   "cell_type": "code",
   "execution_count": 80,
   "id": "ff36beac-e228-4a24-965c-c3b724109718",
   "metadata": {},
   "outputs": [
    {
     "name": "stdout",
     "output_type": "stream",
     "text": [
      "Estimated probability of landing on step 25 with a (1,4) coin: 0.3993\n"
     ]
    }
   ],
   "source": [
    "def simulate_trial():\n",
    "    position = 1\n",
    "    hit_25 = False\n",
    "    for _ in range(24):\n",
    "        toss = random.choice([1, 4])\n",
    "        position += toss\n",
    "        if position == 25:\n",
    "            hit_25 = True\n",
    "    return hit_25\n",
    "\n",
    "def main():\n",
    "    trials = 100000\n",
    "    count_hit_25 = 0\n",
    "    \n",
    "    for _ in range(trials):\n",
    "        if simulate_trial():\n",
    "            count_hit_25 += 1\n",
    "            \n",
    "    probability = count_hit_25 / trials\n",
    "    print(f\"Estimated probability of landing on step 25 with a (1,4) coin: {probability:.4f}\")\n",
    "\n",
    "if __name__ == '__main__':\n",
    "    main()"
   ]
  },
  {
   "cell_type": "code",
   "execution_count": 81,
   "id": "1aa13f76-4935-4def-bdf0-6536422bdd50",
   "metadata": {},
   "outputs": [
    {
     "name": "stdout",
     "output_type": "stream",
     "text": [
      "Estimated probability of landing on step 25 with a (1,5) coin: 0.3311\n"
     ]
    }
   ],
   "source": [
    "def simulate_trial():\n",
    "    position = 1\n",
    "    hit_25 = False\n",
    "    for _ in range(24):\n",
    "        toss = random.choice([1, 5])\n",
    "        position += toss\n",
    "        if position == 25:\n",
    "            hit_25 = True\n",
    "    return hit_25\n",
    "\n",
    "def main():\n",
    "    trials = 100000\n",
    "    count_hit_25 = 0\n",
    "    \n",
    "    for _ in range(trials):\n",
    "        if simulate_trial():\n",
    "            count_hit_25 += 1\n",
    "            \n",
    "    probability = count_hit_25 / trials\n",
    "    print(f\"Estimated probability of landing on step 25 with a (1,5) coin: {probability:.4f}\")\n",
    "\n",
    "if __name__ == '__main__':\n",
    "    main()"
   ]
  },
  {
   "cell_type": "code",
   "execution_count": 99,
   "id": "866bf174-6235-479e-8c63-605a80dfe9b6",
   "metadata": {},
   "outputs": [
    {
     "name": "stdout",
     "output_type": "stream",
     "text": [
      "Estimated probability of landing on step 25 with a dice: 0.2853\n"
     ]
    }
   ],
   "source": [
    "def simulate_trial():\n",
    "    position = 1\n",
    "    hit_25 = False\n",
    "    for _ in range(24):\n",
    "        toss = random.choice([1, 2, 3, 4, 5, 6])\n",
    "        position += toss\n",
    "        if position == 25:\n",
    "            hit_25 = True\n",
    "    return hit_25\n",
    "\n",
    "def main():\n",
    "    trials = 100000\n",
    "    count_hit_25 = 0\n",
    "    \n",
    "    for _ in range(trials):\n",
    "        if simulate_trial():\n",
    "            count_hit_25 += 1\n",
    "            \n",
    "    probability = count_hit_25 / trials\n",
    "    print(f\"Estimated probability of landing on step 25 with a dice: {probability:.4f}\")\n",
    "\n",
    "if __name__ == '__main__':\n",
    "    main()"
   ]
  }
 ],
 "metadata": {
  "kernelspec": {
   "display_name": "Python 3 (ipykernel)",
   "language": "python",
   "name": "python3"
  },
  "language_info": {
   "codemirror_mode": {
    "name": "ipython",
    "version": 3
   },
   "file_extension": ".py",
   "mimetype": "text/x-python",
   "name": "python",
   "nbconvert_exporter": "python",
   "pygments_lexer": "ipython3",
   "version": "3.9.12"
  }
 },
 "nbformat": 4,
 "nbformat_minor": 5
}
