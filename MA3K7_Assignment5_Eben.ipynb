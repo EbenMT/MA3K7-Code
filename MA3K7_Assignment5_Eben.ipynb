{
 "cells": [
  {
   "cell_type": "code",
   "execution_count": 12,
   "id": "1fc175d7-9239-4851-bfe1-4e2a089efe45",
   "metadata": {},
   "outputs": [
    {
     "name": "stdout",
     "output_type": "stream",
     "text": [
      "There are 40 valid ways to fill a 3x3 grid.\n"
     ]
    }
   ],
   "source": [
    "from itertools import permutations\n",
    "\n",
    "def valid_grid(perm, n):\n",
    "    pos = {perm[i]: (i // n, i % n) for i in range(n * n)}\n",
    "    for i in range(1, n * n):\n",
    "        r1, c1 = pos[i]\n",
    "        r2, c2 = pos[i + 1]\n",
    "        if abs(r1 - r2) + abs(c1 - c2) != 1:\n",
    "            return False\n",
    "    return True\n",
    "\n",
    "n = 3  \n",
    "grid_size = n * n\n",
    "\n",
    "valid_count = sum(1 for perm in permutations(range(1, grid_size + 1)) if valid_grid(perm, n))\n",
    "print(f\"There are {valid_count} valid ways to fill a {n}x{n} grid.\")"
   ]
  },
  {
   "cell_type": "code",
   "execution_count": 10,
   "id": "7118f6fa-8996-4333-b4f7-ae31e3110e74",
   "metadata": {},
   "outputs": [
    {
     "name": "stdout",
     "output_type": "stream",
     "text": [
      "Total valid arrangements for 4x4 grid: 552\n"
     ]
    }
   ],
   "source": [
    "import functools\n",
    "\n",
    "def count_hamiltonian_paths(n):\n",
    "    total_cells = n * n\n",
    "    neighbors = [[] for _ in range(total_cells)]\n",
    "    for r in range(n):\n",
    "        for c in range(n):\n",
    "            pos = r * n + c\n",
    "            for dr, dc in [(0, 1), (1, 0), (0, -1), (-1, 0)]:\n",
    "                nr, nc = r + dr, c + dc\n",
    "                if 0 <= nr < n and 0 <= nc < n:\n",
    "                    neighbors[pos].append(nr * n + nc)\n",
    "\n",
    "    @functools.lru_cache(maxsize=None)\n",
    "    def dp(pos, mask):\n",
    "        if mask == (1 << total_cells) - 1:\n",
    "            return 1\n",
    "        count = 0\n",
    "        for nb in neighbors[pos]:\n",
    "            if not (mask & (1 << nb)):\n",
    "                count += dp(nb, mask | (1 << nb))\n",
    "        return count\n",
    "\n",
    "    total_paths = 0\n",
    "    for start in range(total_cells):\n",
    "        total_paths += dp(start, 1 << start)\n",
    "    return total_paths\n",
    "\n",
    "result = count_hamiltonian_paths(4)\n",
    "print(\"Total valid arrangements for 4x4 grid:\", result)\n"
   ]
  },
  {
   "cell_type": "code",
   "execution_count": 11,
   "id": "2491e24a-ea9b-49f5-b7b8-f22afcb79437",
   "metadata": {},
   "outputs": [
    {
     "name": "stdout",
     "output_type": "stream",
     "text": [
      "Total valid arrangements for 5x5 grid: 8648\n"
     ]
    }
   ],
   "source": [
    "import functools\n",
    "\n",
    "def count_hamiltonian_paths(n):\n",
    "    total_cells = n * n\n",
    "    neighbors = [[] for _ in range(total_cells)]\n",
    "    for r in range(n):\n",
    "        for c in range(n):\n",
    "            pos = r * n + c\n",
    "            for dr, dc in [(0, 1), (1, 0), (0, -1), (-1, 0)]:\n",
    "                nr, nc = r + dr, c + dc\n",
    "                if 0 <= nr < n and 0 <= nc < n:\n",
    "                    neighbors[pos].append(nr * n + nc)\n",
    "\n",
    "    @functools.lru_cache(maxsize=None)\n",
    "    def dp(pos, mask):\n",
    "        if mask == (1 << total_cells) - 1:\n",
    "            return 1\n",
    "        count = 0\n",
    "        for nb in neighbors[pos]:\n",
    "            if not (mask & (1 << nb)):\n",
    "                count += dp(nb, mask | (1 << nb))\n",
    "        return count\n",
    "\n",
    "    total_paths = 0\n",
    "    for start in range(total_cells):\n",
    "        total_paths += dp(start, 1 << start)\n",
    "    return total_paths\n",
    "\n",
    "result = count_hamiltonian_paths(5)\n",
    "print(\"Total valid arrangements for 5x5 grid:\", result)\n"
   ]
  },
  {
   "cell_type": "code",
   "execution_count": null,
   "id": "06f7c1df-331c-43fc-9569-d2c414b50312",
   "metadata": {},
   "outputs": [],
   "source": []
  }
 ],
 "metadata": {
  "kernelspec": {
   "display_name": "Python 3 (ipykernel)",
   "language": "python",
   "name": "python3"
  },
  "language_info": {
   "codemirror_mode": {
    "name": "ipython",
    "version": 3
   },
   "file_extension": ".py",
   "mimetype": "text/x-python",
   "name": "python",
   "nbconvert_exporter": "python",
   "pygments_lexer": "ipython3",
   "version": "3.9.12"
  }
 },
 "nbformat": 4,
 "nbformat_minor": 5
}
