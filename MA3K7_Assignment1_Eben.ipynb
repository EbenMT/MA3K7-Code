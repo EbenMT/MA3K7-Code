{
 "cells": [
  {
   "cell_type": "code",
   "execution_count": 1,
   "id": "26a77a23-750b-42a1-b453-8ae5d89bf2e1",
   "metadata": {},
   "outputs": [
    {
     "name": "stdout",
     "output_type": "stream",
     "text": [
      "1 → 5 → 6 → 1 → 7 → 8 → 5 → 3\n",
      "Length of the chain: 6\n"
     ]
    }
   ],
   "source": [
    "def create_number_bracelet(num1, num2):\n",
    "\n",
    "    if not (0 <= num1 < 10 and 0 <= num2 < 10):\n",
    "        raise ValueError(\"Both numbers must be less than 10.\")\n",
    "\n",
    "    bracelet = [num1, num2]\n",
    "\n",
    "    while len(bracelet) < 8:\n",
    "        next_num = (bracelet[-1] + bracelet[-2]) % 10\n",
    "        bracelet.append(next_num)\n",
    "\n",
    "    return bracelet\n",
    "\n",
    "num1, num2 = 1, 5\n",
    "bracelet = create_number_bracelet(num1, num2)\n",
    "print(\" → \".join(map(str, bracelet)))\n",
    "print(f\"Length of the chain: {len(bracelet)-2}\")"
   ]
  },
  {
   "cell_type": "code",
   "execution_count": 2,
   "id": "ed9a1483-65c6-496b-9497-ed10b14a8dd2",
   "metadata": {},
   "outputs": [
    {
     "name": "stdout",
     "output_type": "stream",
     "text": [
      "1 → 5 → 6 → 1 → 7 → 8 → 5 → 3 → 8 → 1 → 9 → 0 → 9 → 9 → 8 → 7 → 5 → 2 → 7 → 9 → 6 → 5 → 1 → 6 → 7 → 3 → 0 → 3 → 3 → 6 → 9 → 5 → 4 → 9 → 3 → 2 → 5 → 7 → 2 → 9 → 1 → 0 → 1 → 1 → 2 → 3 → 5 → 8 → 3 → 1 → 4 → 5 → 9 → 4 → 3 → 7 → 0 → 7 → 7 → 4 → 1 → 5\n"
     ]
    }
   ],
   "source": [
    "def create_number_bracelet(num1, num2):\n",
    "\n",
    "    if not (0 <= num1 < 10 and 0 <= num2 < 10):\n",
    "        raise ValueError(\"Both numbers must be less than 10.\")\n",
    "\n",
    "    bracelet = [num1, num2]\n",
    "\n",
    "    while True:\n",
    "        next_num = (bracelet[-1] + bracelet[-2]) % 10\n",
    "        bracelet.append(next_num)\n",
    "        # Stop when the sequence repeats\n",
    "        if bracelet[-2:] == [num1, num2]:\n",
    "            break\n",
    "\n",
    "    return bracelet\n",
    "\n",
    "num1, num2 = 1, 5\n",
    "bracelet = create_number_bracelet(num1, num2)\n",
    "print(\" → \".join(map(str, bracelet)))"
   ]
  },
  {
   "cell_type": "code",
   "execution_count": 3,
   "id": "111bb51e-036f-4709-bb4a-72020626c7da",
   "metadata": {},
   "outputs": [
    {
     "name": "stdout",
     "output_type": "stream",
     "text": [
      "1 → 5 → 6 → 1 → 7 → 8 → 5 → 3 → 8 → 1 → 9 → 0 → 9 → 9 → 8 → 7 → 5 → 2 → 7 → 9 → 6 → 5 → 1 → 6 → 7 → 3 → 0 → 3 → 3 → 6 → 9 → 5 → 4 → 9 → 3 → 2 → 5 → 7 → 2 → 9 → 1 → 0 → 1 → 1 → 2 → 3 → 5 → 8 → 3 → 1 → 4 → 5 → 9 → 4 → 3 → 7 → 0 → 7 → 7 → 4 → 1 → 5\n",
      "Length of the chain: 60\n"
     ]
    }
   ],
   "source": [
    "def create_number_bracelet(num1, num2):\n",
    "\n",
    "    if not (0 <= num1 < 10 and 0 <= num2 < 10):\n",
    "        raise ValueError(\"Both numbers must be less than 10.\")\n",
    "\n",
    "    bracelet = [num1, num2]\n",
    "\n",
    "    while True:\n",
    "        next_num = (bracelet[-1] + bracelet[-2]) % 10\n",
    "        bracelet.append(next_num)\n",
    "        # Stop when the sequence repeats\n",
    "        if bracelet[-2:] == [num1, num2]:\n",
    "            break\n",
    "\n",
    "    return bracelet\n",
    "\n",
    "# Example usage\n",
    "num1, num2 = 1, 5\n",
    "bracelet = create_number_bracelet(num1, num2)\n",
    "print(\" → \".join(map(str, bracelet)))\n",
    "print(f\"Length of the chain: {len(bracelet)-2}\")"
   ]
  },
  {
   "cell_type": "code",
   "execution_count": 4,
   "id": "45e25a6a-b3c3-480d-b85a-9891eb904889",
   "metadata": {},
   "outputs": [
    {
     "name": "stdout",
     "output_type": "stream",
     "text": [
      "2 → 2 → 4 → 6 → 0 → 6 → 6 → 2 → 8 → 0 → 8 → 8 → 6 → 4 → 0 → 4 → 4 → 8 → 2 → 0 → 2 → 2\n",
      "Length of the chain: 20\n"
     ]
    }
   ],
   "source": [
    "def create_number_bracelet(num1, num2):\n",
    "\n",
    "    if not (0 <= num1 < 10 and 0 <= num2 < 10):\n",
    "        raise ValueError(\"Both numbers must be less than 10.\")\n",
    "\n",
    "    bracelet = [num1, num2]\n",
    "\n",
    "    while True:\n",
    "        next_num = (bracelet[-1] + bracelet[-2]) % 10\n",
    "        bracelet.append(next_num)\n",
    "        # Stop when the sequence repeats\n",
    "        if bracelet[-2:] == [num1, num2]:\n",
    "            break\n",
    "\n",
    "    return bracelet\n",
    "\n",
    "num1, num2 = 2, 2\n",
    "bracelet = create_number_bracelet(num1, num2)\n",
    "print(\" → \".join(map(str, bracelet)))\n",
    "print(f\"Length of the chain: {len(bracelet)-2}\")"
   ]
  },
  {
   "cell_type": "code",
   "execution_count": 5,
   "id": "37495a46-4247-48c0-8d61-9e339811803c",
   "metadata": {},
   "outputs": [
    {
     "name": "stdout",
     "output_type": "stream",
     "text": [
      "5 → 5 → 0 → 5 → 5\n",
      "Length of the chain: 3\n"
     ]
    }
   ],
   "source": [
    "def create_number_bracelet(num1, num2):\n",
    "\n",
    "    if not (0 <= num1 < 10 and 0 <= num2 < 10):\n",
    "        raise ValueError(\"Both numbers must be less than 10.\")\n",
    "\n",
    "    bracelet = [num1, num2]\n",
    "\n",
    "    while True:\n",
    "        next_num = (bracelet[-1] + bracelet[-2]) % 10\n",
    "        bracelet.append(next_num)\n",
    "        # Stop when the sequence repeats\n",
    "        if bracelet[-2:] == [num1, num2]:\n",
    "            break\n",
    "\n",
    "    return bracelet\n",
    "\n",
    "num1, num2 = 5, 5\n",
    "bracelet = create_number_bracelet(num1, num2)\n",
    "print(\" → \".join(map(str, bracelet)))\n",
    "print(f\"Length of the chain: {len(bracelet)-2}\")"
   ]
  },
  {
   "cell_type": "code",
   "execution_count": 6,
   "id": "e4766408-2178-40a0-bb18-499768735b86",
   "metadata": {},
   "outputs": [
    {
     "name": "stdout",
     "output_type": "stream",
     "text": [
      "1 → 3 → 4 → 7 → 1 → 8 → 9 → 7 → 6 → 3 → 9 → 2 → 1 → 3\n",
      "Length of the chain: 12\n"
     ]
    }
   ],
   "source": [
    "def create_number_bracelet(num1, num2):\n",
    "\n",
    "    if not (0 <= num1 < 10 and 0 <= num2 < 10):\n",
    "        raise ValueError(\"Both numbers must be less than 10.\")\n",
    "\n",
    "    bracelet = [num1, num2]\n",
    "\n",
    "    while True:\n",
    "        next_num = (bracelet[-1] + bracelet[-2]) % 10\n",
    "        bracelet.append(next_num)\n",
    "        # Stop when the sequence repeats\n",
    "        if bracelet[-2:] == [num1, num2]:\n",
    "            break\n",
    "\n",
    "    return bracelet\n",
    "\n",
    "# Example usage\n",
    "num1, num2 = 1, 3\n",
    "bracelet = create_number_bracelet(num1, num2)\n",
    "print(\" → \".join(map(str, bracelet)))\n",
    "print(f\"Length of the chain: {len(bracelet)-2}\")"
   ]
  },
  {
   "cell_type": "code",
   "execution_count": null,
   "id": "fd974526-ef1b-4480-97de-ecfee3744f91",
   "metadata": {},
   "outputs": [],
   "source": []
  }
 ],
 "metadata": {
  "kernelspec": {
   "display_name": "Python 3 (ipykernel)",
   "language": "python",
   "name": "python3"
  },
  "language_info": {
   "codemirror_mode": {
    "name": "ipython",
    "version": 3
   },
   "file_extension": ".py",
   "mimetype": "text/x-python",
   "name": "python",
   "nbconvert_exporter": "python",
   "pygments_lexer": "ipython3",
   "version": "3.9.12"
  }
 },
 "nbformat": 4,
 "nbformat_minor": 5
}
